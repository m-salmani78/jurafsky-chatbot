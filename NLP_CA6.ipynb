{
 "cells": [
  {
   "cell_type": "markdown",
   "metadata": {},
   "source": [
    "# NLP - CA6\n",
    "* **Name:** Mohammad Mahdi Salmani\n",
    "* **Student id:** 810102174"
   ]
  },
  {
   "cell_type": "markdown",
   "metadata": {},
   "source": [
    "## Load libraries"
   ]
  },
  {
   "cell_type": "code",
   "execution_count": null,
   "metadata": {},
   "outputs": [],
   "source": [
    "%pip install -r requirements.txt"
   ]
  },
  {
   "cell_type": "code",
   "execution_count": 88,
   "metadata": {},
   "outputs": [],
   "source": [
    "import os\n",
    "import json\n",
    "import requests\n",
    "from tqdm import tqdm\n",
    "from bs4 import BeautifulSoup\n",
    "from langchain_community.document_loaders import PyPDFLoader\n",
    "from langchain.text_splitter import RecursiveCharacterTextSplitter\n",
    "from langchain.storage import LocalFileStore\n",
    "from dotenv import load_dotenv\n",
    "from langchain_community.embeddings import HuggingFaceEmbeddings\n",
    "from langchain_together import ChatTogether\n",
    "from langchain.retrievers import EnsembleRetriever\n",
    "from langchain_community.retrievers import BM25Retriever\n",
    "from langchain_community.vectorstores import FAISS\n",
    "from langchain.prompts import ChatPromptTemplate\n",
    "from langchain_core.pydantic_v1 import BaseModel, Field\n",
    "from typing import Literal\n",
    "from operator import itemgetter\n",
    "from langchain_core.output_parsers import StrOutputParser\n",
    "from IPython.core.display import Markdown\n",
    "from langchain_core.messages import HumanMessage, AIMessage\n",
    "from langchain.output_parsers import PydanticOutputParser\n",
    "from langchain_core.prompts import PromptTemplate\n",
    "from langchain.embeddings import CacheBackedEmbeddings\n",
    "from langchain.utilities.tavily_search import TavilySearchAPIWrapper\n",
    "from langchain.tools.tavily_search import TavilySearchResults"
   ]
  },
  {
   "cell_type": "markdown",
   "metadata": {},
   "source": [
    "## Part1: Load dataset"
   ]
  },
  {
   "cell_type": "code",
   "execution_count": 79,
   "metadata": {},
   "outputs": [],
   "source": [
    "with open(\"configs.json\") as f:\n",
    "    configs = json.loads(f.read())\n",
    "\n",
    "os.environ[\"TAVILY_API_KEY\"] = configs[\"api\"][\"TAVILY_API_KEY\"]\n",
    "os.environ[\"TOGETHER_API_KEY\"] = configs[\"api\"][\"TOGETHER_API_KEY\"]"
   ]
  },
  {
   "cell_type": "markdown",
   "metadata": {},
   "source": [
    "### Crawl pdf list from site"
   ]
  },
  {
   "cell_type": "code",
   "execution_count": 2,
   "metadata": {},
   "outputs": [
    {
     "data": {
      "text/plain": [
       "['https://stanford.edu/~jurafsky/slp3/2.pdf',\n",
       " 'https://stanford.edu/~jurafsky/slp3/3.pdf',\n",
       " 'https://stanford.edu/~jurafsky/slp3/4.pdf',\n",
       " 'https://stanford.edu/~jurafsky/slp3/5.pdf',\n",
       " 'https://stanford.edu/~jurafsky/slp3/6.pdf',\n",
       " 'https://stanford.edu/~jurafsky/slp3/7.pdf',\n",
       " 'https://stanford.edu/~jurafsky/slp3/8.pdf',\n",
       " 'https://stanford.edu/~jurafsky/slp3/9.pdf',\n",
       " 'https://stanford.edu/~jurafsky/slp3/10.pdf',\n",
       " 'https://stanford.edu/~jurafsky/slp3/11.pdf',\n",
       " 'https://stanford.edu/~jurafsky/slp3/13.pdf',\n",
       " 'https://stanford.edu/~jurafsky/slp3/14.pdf',\n",
       " 'https://stanford.edu/~jurafsky/slp3/15.pdf',\n",
       " 'https://stanford.edu/~jurafsky/slp3/16.pdf',\n",
       " 'https://stanford.edu/~jurafsky/slp3/17.pdf',\n",
       " 'https://stanford.edu/~jurafsky/slp3/18.pdf',\n",
       " 'https://stanford.edu/~jurafsky/slp3/19.pdf',\n",
       " 'https://stanford.edu/~jurafsky/slp3/20.pdf',\n",
       " 'https://stanford.edu/~jurafsky/slp3/21.pdf',\n",
       " 'https://stanford.edu/~jurafsky/slp3/22.pdf',\n",
       " 'https://stanford.edu/~jurafsky/slp3/23.pdf']"
      ]
     },
     "execution_count": 2,
     "metadata": {},
     "output_type": "execute_result"
    }
   ],
   "source": [
    "url = \"https://stanford.edu/~jurafsky/slp3/\"\n",
    "\n",
    "response = requests.get(url)\n",
    "soup = BeautifulSoup(response.text, 'html.parser')\n",
    "\n",
    "chapters = []\n",
    "for link in soup.find_all('a', href=True):\n",
    "    if '.pdf' in link['href'] and link['href'].split('.')[0].isdigit():\n",
    "        chapters.append(link['href'])\n",
    "\n",
    "pdf_links = [url+link for link in chapters]\n",
    "pdf_links"
   ]
  },
  {
   "cell_type": "markdown",
   "metadata": {},
   "source": [
    "### Download PDFs"
   ]
  },
  {
   "cell_type": "code",
   "execution_count": 4,
   "metadata": {},
   "outputs": [],
   "source": [
    "selected_pdf_links = pdf_links[:10] # Just retrieve from Chapter I: Fundamental Algorithms"
   ]
  },
  {
   "cell_type": "code",
   "execution_count": 12,
   "metadata": {},
   "outputs": [
    {
     "name": "stderr",
     "output_type": "stream",
     "text": [
      "100%|██████████| 10/10 [02:42<00:00, 16.28s/it]\n"
     ]
    }
   ],
   "source": [
    "documents = []\n",
    "for pdf_link in tqdm(selected_pdf_links):\n",
    "    loader = PyPDFLoader(pdf_link)\n",
    "    documents.extend(loader.load())"
   ]
  },
  {
   "cell_type": "code",
   "execution_count": 13,
   "metadata": {},
   "outputs": [
    {
     "data": {
      "text/plain": [
       "275"
      ]
     },
     "execution_count": 13,
     "metadata": {},
     "output_type": "execute_result"
    }
   ],
   "source": [
    "len(documents)"
   ]
  },
  {
   "cell_type": "markdown",
   "metadata": {},
   "source": [
    "### Chunking"
   ]
  },
  {
   "cell_type": "code",
   "execution_count": 14,
   "metadata": {},
   "outputs": [
    {
     "data": {
      "text/plain": [
       "904"
      ]
     },
     "execution_count": 14,
     "metadata": {},
     "output_type": "execute_result"
    }
   ],
   "source": [
    "text_splitter = RecursiveCharacterTextSplitter(chunk_size=1024, chunk_overlap=64)\n",
    "chunks = text_splitter.split_documents(documents)\n",
    "\n",
    "len(chunks)"
   ]
  },
  {
   "cell_type": "markdown",
   "metadata": {},
   "source": [
    "### Vector Store"
   ]
  },
  {
   "cell_type": "code",
   "execution_count": 19,
   "metadata": {},
   "outputs": [
    {
     "name": "stdout",
     "output_type": "stream",
     "text": [
      "Note: you may need to restart the kernel to use updated packages.\n"
     ]
    }
   ],
   "source": [
    "%pip install --upgrade --quiet  langchain-openai faiss-cpu"
   ]
  },
  {
   "cell_type": "code",
   "execution_count": 18,
   "metadata": {},
   "outputs": [
    {
     "data": {
      "application/vnd.jupyter.widget-view+json": {
       "model_id": "67b29bd46ed14d728ccd0703279b5694",
       "version_major": 2,
       "version_minor": 0
      },
      "text/plain": [
       "model.safetensors:   2%|2         | 10.5M/438M [00:00<?, ?B/s]"
      ]
     },
     "metadata": {},
     "output_type": "display_data"
    },
    {
     "data": {
      "application/vnd.jupyter.widget-view+json": {
       "model_id": "fbd9133d11db434884af3959ffd312d2",
       "version_major": 2,
       "version_minor": 0
      },
      "text/plain": [
       "tokenizer_config.json:   0%|          | 0.00/363 [00:00<?, ?B/s]"
      ]
     },
     "metadata": {},
     "output_type": "display_data"
    },
    {
     "data": {
      "application/vnd.jupyter.widget-view+json": {
       "model_id": "02be9d7f7f2b432498f0175e1a7f5621",
       "version_major": 2,
       "version_minor": 0
      },
      "text/plain": [
       "vocab.txt:   0%|          | 0.00/232k [00:00<?, ?B/s]"
      ]
     },
     "metadata": {},
     "output_type": "display_data"
    },
    {
     "data": {
      "application/vnd.jupyter.widget-view+json": {
       "model_id": "7b9e73d2a0814319a4679cd1887d5984",
       "version_major": 2,
       "version_minor": 0
      },
      "text/plain": [
       "tokenizer.json:   0%|          | 0.00/466k [00:00<?, ?B/s]"
      ]
     },
     "metadata": {},
     "output_type": "display_data"
    },
    {
     "data": {
      "application/vnd.jupyter.widget-view+json": {
       "model_id": "5842df97c84a4a9ea584b3bf1071372b",
       "version_major": 2,
       "version_minor": 0
      },
      "text/plain": [
       "special_tokens_map.json:   0%|          | 0.00/239 [00:00<?, ?B/s]"
      ]
     },
     "metadata": {},
     "output_type": "display_data"
    },
    {
     "data": {
      "application/vnd.jupyter.widget-view+json": {
       "model_id": "b12109bebd6440a389b55bb19441677b",
       "version_major": 2,
       "version_minor": 0
      },
      "text/plain": [
       "1_Pooling/config.json:   0%|          | 0.00/190 [00:00<?, ?B/s]"
      ]
     },
     "metadata": {},
     "output_type": "display_data"
    }
   ],
   "source": [
    "embedding_function = HuggingFaceEmbeddings(show_progress=True, multi_process=True)"
   ]
  },
  {
   "cell_type": "code",
   "execution_count": 24,
   "metadata": {},
   "outputs": [],
   "source": [
    "store = LocalFileStore(\"./embedding_cache/\")\n",
    "cached_embedder = CacheBackedEmbeddings.from_bytes_store(embedding_function, store, namespace=embedding_function.model_name)"
   ]
  },
  {
   "cell_type": "markdown",
   "metadata": {},
   "source": [
    "## Part3: Retriever"
   ]
  },
  {
   "cell_type": "code",
   "execution_count": 30,
   "metadata": {},
   "outputs": [
    {
     "name": "stdout",
     "output_type": "stream",
     "text": [
      "CPU times: total: 203 ms\n",
      "Wall time: 2min 34s\n"
     ]
    }
   ],
   "source": [
    "# %%time\n",
    "vector_store = FAISS.from_documents(documents=chunks, embedding=cached_embedder)"
   ]
  },
  {
   "cell_type": "code",
   "execution_count": 57,
   "metadata": {},
   "outputs": [
    {
     "name": "stdout",
     "output_type": "stream",
     "text": [
      "[1] Score: 0.589, Metadata: {'source': 'https://stanford.edu/~jurafsky/slp3/9.pdf', 'page': 0}\n",
      "\n",
      "the prior context, in its recurrent connections , allowing the model’s decision to\n",
      "depend on information from hundreds of words in the past. We’ll see how to apply\n",
      "the model to the task of language mo...\n",
      "\n",
      "[2] Score: 0.562, Metadata: {'source': 'https://stanford.edu/~jurafsky/slp3/9.pdf', 'page': 23}\n",
      "\n",
      "covered:\n",
      "• In simple Recurrent Neural Networks sequences are processed one element at\n",
      "a time, with the output of each neural unit at time tbased both on the current\n",
      "input at tand the hidden layer from...\n",
      "\n",
      "[3] Score: 0.553, Metadata: {'source': 'https://stanford.edu/~jurafsky/slp3/9.pdf', 'page': 26}\n",
      "\n",
      "neural networks. SemEval-2016 .\n",
      "Gers, F. A., J. Schmidhuber, and F. Cummins. 2000. Learn-\n",
      "ing to forget: Continual prediction with lstm. Neural\n",
      "computation , 12(10):2451–2471.\n",
      "Giles, C. L., G. M. Kuhn...\n",
      "\n"
     ]
    }
   ],
   "source": [
    "query = \"Recurrent Neural Networks\"\n",
    "results = vector_store.similarity_search_with_relevance_scores(query, k=3)\n",
    "\n",
    "for i, result in enumerate(results):\n",
    "    print(f'[{i+1}] Score: {result[1]:.3f}, Metadata: {result[0].metadata}')\n",
    "    print(f'\\n{result[0].page_content[:200]}...\\n')"
   ]
  },
  {
   "cell_type": "code",
   "execution_count": 58,
   "metadata": {},
   "outputs": [],
   "source": [
    "sample_queries = [\n",
    "    \"What is the advantage of Bidirectional RNNs?\",\n",
    "    \"What is the differences between a stack and a queue.\",\n",
    "    \"Who is the president of United States?\"\n",
    "]"
   ]
  },
  {
   "cell_type": "code",
   "execution_count": 60,
   "metadata": {},
   "outputs": [
    {
     "name": "stdout",
     "output_type": "stream",
     "text": [
      "[Q1] What is the advantage of Bidirectional RNNs?\n",
      "\n",
      "Retrieve 1) {'source': 'https://stanford.edu/~jurafsky/slp3/9.pdf', 'page': 0}\n",
      "\n",
      "the prior context, in its recurrent connections , allowing the model’s decision to\n",
      "depend on information from hundreds of words in the past. We’ll see how to apply\n",
      "the model to the task of language mo...\n",
      "\n",
      "Retrieve 2) {'source': 'https://stanford.edu/~jurafsky/slp3/9.pdf', 'page': 23}\n",
      "\n",
      "covered:\n",
      "• In simple Recurrent Neural Networks sequences are processed one element at\n",
      "a time, with the output of each neural unit at time tbased both on the current\n",
      "input at tand the hidden layer from...\n",
      "\n",
      "Retrieve 3) {'source': 'https://stanford.edu/~jurafsky/slp3/9.pdf', 'page': 26}\n",
      "\n",
      "neural networks. SemEval-2016 .\n",
      "Gers, F. A., J. Schmidhuber, and F. Cummins. 2000. Learn-\n",
      "ing to forget: Continual prediction with lstm. Neural\n",
      "computation , 12(10):2451–2471.\n",
      "Giles, C. L., G. M. Kuhn...\n",
      "\n",
      "[Q2] What is the differences between a stack and a queue.\n",
      "\n",
      "Retrieve 1) {'source': 'https://stanford.edu/~jurafsky/slp3/9.pdf', 'page': 0}\n",
      "\n",
      "the prior context, in its recurrent connections , allowing the model’s decision to\n",
      "depend on information from hundreds of words in the past. We’ll see how to apply\n",
      "the model to the task of language mo...\n",
      "\n",
      "Retrieve 2) {'source': 'https://stanford.edu/~jurafsky/slp3/9.pdf', 'page': 23}\n",
      "\n",
      "covered:\n",
      "• In simple Recurrent Neural Networks sequences are processed one element at\n",
      "a time, with the output of each neural unit at time tbased both on the current\n",
      "input at tand the hidden layer from...\n",
      "\n",
      "Retrieve 3) {'source': 'https://stanford.edu/~jurafsky/slp3/9.pdf', 'page': 26}\n",
      "\n",
      "neural networks. SemEval-2016 .\n",
      "Gers, F. A., J. Schmidhuber, and F. Cummins. 2000. Learn-\n",
      "ing to forget: Continual prediction with lstm. Neural\n",
      "computation , 12(10):2451–2471.\n",
      "Giles, C. L., G. M. Kuhn...\n",
      "\n",
      "[Q3] Who is the president of United States?\n",
      "\n",
      "Retrieve 1) {'source': 'https://stanford.edu/~jurafsky/slp3/9.pdf', 'page': 0}\n",
      "\n",
      "the prior context, in its recurrent connections , allowing the model’s decision to\n",
      "depend on information from hundreds of words in the past. We’ll see how to apply\n",
      "the model to the task of language mo...\n",
      "\n",
      "Retrieve 2) {'source': 'https://stanford.edu/~jurafsky/slp3/9.pdf', 'page': 23}\n",
      "\n",
      "covered:\n",
      "• In simple Recurrent Neural Networks sequences are processed one element at\n",
      "a time, with the output of each neural unit at time tbased both on the current\n",
      "input at tand the hidden layer from...\n",
      "\n",
      "Retrieve 3) {'source': 'https://stanford.edu/~jurafsky/slp3/9.pdf', 'page': 26}\n",
      "\n",
      "neural networks. SemEval-2016 .\n",
      "Gers, F. A., J. Schmidhuber, and F. Cummins. 2000. Learn-\n",
      "ing to forget: Continual prediction with lstm. Neural\n",
      "computation , 12(10):2451–2471.\n",
      "Giles, C. L., G. M. Kuhn...\n",
      "\n"
     ]
    }
   ],
   "source": [
    "faiss_retriever = vector_store.as_retriever(search_kwargs={\"k\": 3})\n",
    "\n",
    "for i, question in enumerate(sample_queries):\n",
    "    print(f'[Q{i+1}] {question}\\n')\n",
    "    results = faiss_retriever.invoke(query)\n",
    "    for j, result in enumerate(results):\n",
    "        print(f'Retrieve {j+1}) {result.metadata}')\n",
    "        print(f'\\n{result.page_content[:200]}...\\n')"
   ]
  },
  {
   "cell_type": "markdown",
   "metadata": {},
   "source": [
    "## Part3: EnsembleRetriever"
   ]
  },
  {
   "cell_type": "code",
   "execution_count": null,
   "metadata": {},
   "outputs": [],
   "source": [
    "%pip install --upgrade --quiet  rank_bm25"
   ]
  },
  {
   "cell_type": "code",
   "execution_count": 68,
   "metadata": {},
   "outputs": [],
   "source": [
    "bm25_retriever = BM25Retriever.from_documents(documents=chunks, embedding=cached_embedder)"
   ]
  },
  {
   "cell_type": "code",
   "execution_count": 72,
   "metadata": {},
   "outputs": [],
   "source": [
    "ensemble_retriever = EnsembleRetriever(\n",
    "    retrievers=[bm25_retriever, faiss_retriever], weights=[0.4, 0.6]\n",
    ")"
   ]
  },
  {
   "cell_type": "code",
   "execution_count": 73,
   "metadata": {},
   "outputs": [
    {
     "data": {
      "text/plain": [
       "[Document(page_content='sequence from tto the end of the sequence.\\nAbidirectional RNN (Schuster and Paliwal, 1997) combines two independentbidirectional\\nRNN\\nRNNs, one where the input is processed from the start to the end, and the other from\\nthe end to the start. We then concatenate the two representations computed by the\\nnetworks into a single vector that captures both the left and right contexts of an input\\nat each point in time. Here we use either the semicolon ”;” or the equivalent symbol\\n⊕to mean vector concatenation:\\nht= [hf\\nt;hb\\nt]\\n=hf\\nt⊕hb\\nt (9.18)\\nFig. 9.11 illustrates such a bidirectional network that concatenates the outputs of\\nthe forward and backward pass. Other simple ways to combine the forward and\\nbackward contexts include element-wise addition or multiplication. The output at\\neach step in time thus captures information to the left and to the right of the current\\ninput. In sequence labeling applications, these concatenated outputs can serve as the\\nbasis for a local labeling decision.', metadata={'source': 'https://stanford.edu/~jurafsky/slp3/9.pdf', 'page': 11}),\n",
       " Document(page_content='12 CHAPTER 9 • RNN S AND LSTM S\\nStacked RNNs generally outperform single-layer networks. One reason for this\\nsuccess seems to be that the network induces representations at differing levels of\\nabstraction across layers. Just as the early stages of the human visual system detect\\nedges that are then used for ﬁnding larger regions and shapes, the initial layers of\\nstacked networks can induce representations that serve as useful abstractions for\\nfurther layers—representations that might prove difﬁcult to induce in a single RNN.\\nThe optimal number of stacked RNNs is speciﬁc to each application and to each\\ntraining set. However, as the number of stacks is increased the training costs rise\\nquickly.\\n9.4.2 Bidirectional RNNs\\nThe RNN uses information from the left (prior) context to make its predictions at\\ntime t. But in many applications we have access to the entire input sequence; in\\nthose cases we would like to use words from the context to the right of t. One way', metadata={'source': 'https://stanford.edu/~jurafsky/slp3/9.pdf', 'page': 11}),\n",
       " Document(page_content='9.4 • S TACKED AND BIDIRECTIONAL RNN ARCHITECTURES 13\\nRNN 2 \\nRNN 1x1y2y1y3ynconcatenatedoutputs\\nx2x3xn\\nFigure 9.11 A bidirectional RNN. Separate models are trained in the forward and backward\\ndirections, with the output of each model at each time point concatenated to represent the\\nbidirectional state at that time point.\\nstate of the RNN as the input to a subsequent feedforward classiﬁer. A difﬁculty\\nwith this approach is that the ﬁnal state naturally reﬂects more information about\\nthe end of the sentence than its beginning. Bidirectional RNNs provide a simple\\nsolution to this problem; as shown in Fig. 9.12, we simply combine the ﬁnal hidden\\nstates from the forward and backward passes (for example by concatenation) and\\nuse that as input for follow-on processing.\\nRNN 2 \\nRNN 1x1x2x3xnhn→h1←hn→SoftmaxFFNh1←\\nFigure 9.12 A bidirectional RNN for sequence classiﬁcation. The ﬁnal hidden units from\\nthe forward and backward passes are combined to represent the entire sequence. This com-', metadata={'source': 'https://stanford.edu/~jurafsky/slp3/9.pdf', 'page': 12}),\n",
       " Document(page_content='computed independently of the others using only information seen earlier in the context. (b) Information ﬂow in\\na bidirectional self-attention model. In processing each element of the sequence, the model attends to all inputs,\\nboth before and after the current one.\\nBidirectional encoders overcome this limitation by allowing the self-attention\\nmechanism to range over the entire input, as shown in Fig. 11.1b.\\nWhy bidirectional encoders? The causal models of Chapter 10 are generative\\nmodels, designed to easily generate the next token in a sequence. But the focus\\nof bidirectional encoders is instead on computing contextualized representations of\\nthe input tokens. Bidirectional encoders use self-attention to map sequences of\\ninput embeddings (x1,...,xn)to sequences of output embeddings the same length\\n(y1,...,yn), where the output vectors have been contextualized using information\\nfrom the entire input sequence. These output embeddings are contextualized repre-', metadata={'source': 'https://stanford.edu/~jurafsky/slp3/11.pdf', 'page': 1}),\n",
       " Document(page_content='might use email text or newsgroups). Now compare the statistics of the two\\ncorpora. What are the differences in the most common unigrams between the\\ntwo? How about interesting differences in bigrams?\\n3.10 Add an option to your program to generate random sentences.\\n3.11 Add an option to your program to compute the perplexity of a test set.\\n3.12 You are given a training set of 100 numbers that consists of 91 zeros and 1\\neach of the other digits 1-9. Now we see the following test set: 0 0 0 0 0 3 0 0\\n0 0. What is the unigram perplexity?', metadata={'source': 'https://stanford.edu/~jurafsky/slp3/3.pdf', 'page': 27}),\n",
       " Document(page_content='14 CHAPTER 2 • R EGULAR EXPRESSIONS , TEXT NORMALIZATION , EDITDISTANCE\\nSpeaker demographics : What was, e.g., the age or gender of the text’s authors?\\nCollection process : How big is the data? If it is a subsample how was it sampled?\\nWas the data collected with consent? How was the data pre-processed, and\\nwhat metadata is available?\\nAnnotation process : What are the annotations, what are the demographics of the\\nannotators, how were they trained, how was the data annotated?\\nDistribution : Are there copyright or other intellectual property restrictions?\\n2.4 Simple Unix Tools for Word Tokenization\\nBefore almost any natural language processing of a text, the text has to be normal-\\nized, a task called text normalization . At least three tasks are commonly applied astext\\nnormalization\\npart of any normalization process:\\n1. Tokenizing (segmenting) words\\n2. Normalizing word formats\\n3. Segmenting sentences\\nIn the next sections we walk through each of these tasks, but we’ll ﬁrst start with', metadata={'source': 'https://stanford.edu/~jurafsky/slp3/2.pdf', 'page': 13}),\n",
       " Document(page_content='from all the units in the previous layer, and there is a link between every pair of units\\nfrom two adjacent layers. Thus each hidden unit sums over all the input units.\\nRecall that a single hidden unit has as parameters a weight vector and a bias. We\\nrepresent the parameters for the entire hidden layer by combining the weight vector\\nand bias for each unit iinto a single weight matrix Wand a single bias vector bfor\\nthe whole layer (see Fig. 7.8). Each element Wjiof the weight matrix Wrepresents\\nthe weight of the connection from the ith input unit xito the jth hidden unit hj.\\nThe advantage of using a single matrix Wfor the weights of the entire layer is\\nthat now the hidden layer computation for a feedforward network can be done very\\nefﬁciently with simple matrix operations. In fact, the computation only has three', metadata={'source': 'https://stanford.edu/~jurafsky/slp3/7.pdf', 'page': 6})]"
      ]
     },
     "execution_count": 73,
     "metadata": {},
     "output_type": "execute_result"
    }
   ],
   "source": [
    "ensemble_retriever.invoke(sample_queries[0])"
   ]
  },
  {
   "cell_type": "markdown",
   "metadata": {},
   "source": [
    "## Part4: Router Chain"
   ]
  },
  {
   "cell_type": "code",
   "execution_count": 82,
   "metadata": {},
   "outputs": [],
   "source": [
    "llm = ChatTogether(\n",
    "    model=\"meta-llama/Llama-3-70b-chat-hf\",\n",
    "    temperature= 0,\n",
    "    )"
   ]
  },
  {
   "cell_type": "code",
   "execution_count": 83,
   "metadata": {},
   "outputs": [],
   "source": [
    "router_prompt = ChatPromptTemplate.from_template(\n",
    "    template=\"\"\"\n",
    "You are a routing assistant responsible for directing user queries to the appropriate tool: either a VectorStore, SearchEngine, or a fallback message.\n",
    "Your VectorStore contains data about chapters of the Natural Language Processing book by Jurafsky. If the given query is about N-grams, Text Classifications, Embeddings, Sequence Labeling, RNNs, LSTMs, Transformers, or Large Language Models, choose VectorStore.\n",
    "If the query is related to general computer science topics, choose SearchEngine.\n",
    "If the query is not related to NLP or computer science, choose None.\n",
    "\n",
    "Decide whether the given question should be routed to \"VectorStore\", \"SearchEngine\", or \"None\".\n",
    "Provide only the name of the chosen tool and nothing else. If no tool is chosen, return the string \"None\".\n",
    "\n",
    "{output_instructions}\n",
    "\n",
    "Question: {question}\n",
    "\n",
    "Response: \"\"\",\n",
    ")"
   ]
  },
  {
   "cell_type": "code",
   "execution_count": 84,
   "metadata": {},
   "outputs": [],
   "source": [
    "class ChosenTool(BaseModel):\n",
    "    tool_name: Literal[\"VectorStore\", \"SearchEngine\", \"None\"] = Field(description=\"the tool that was chosen by LLM in question routing stage\")\n",
    "\n",
    "# Create the parser\n",
    "question_router_parser = PydanticOutputParser(pydantic_object=ChosenTool)"
   ]
  },
  {
   "cell_type": "code",
   "execution_count": 85,
   "metadata": {},
   "outputs": [],
   "source": [
    "router_chain = router_prompt | llm | question_router_parser"
   ]
  },
  {
   "cell_type": "markdown",
   "metadata": {},
   "source": [
    "## Part5: Search Engine Chain"
   ]
  },
  {
   "cell_type": "markdown",
   "metadata": {},
   "source": [
    "### Tavily Search Sample"
   ]
  },
  {
   "cell_type": "code",
   "execution_count": 98,
   "metadata": {},
   "outputs": [
    {
     "name": "stdout",
     "output_type": "stream",
     "text": [
      "\n",
      "\n",
      "\u001b[1m> Entering new AgentExecutor chain...\u001b[0m\n",
      "\u001b[32;1m\u001b[1;3mQuestion: Who is the president of Iran?\n",
      "Thought: I need to look up the current president of Iran.\n",
      "Action:\n",
      "```\n",
      "{\n",
      "  \"action\": \"tavily_search_results_json\",\n",
      "  \"action_input\": \"current president of Iran\"\n",
      "}\n",
      "```\n",
      "\u001b[0m\n",
      "Observation: \u001b[36;1m\u001b[1;3m[{'url': 'https://abcnews.go.com/International/wireStory/masoud-pezeshkian-heart-surgeon-rose-power-parliament-now-111709850', 'content': 'The stances of Iran\\'s President-elect Masoud Pezeshkian reflect the dualities of being a reformist politician within Iran’s Shiite theocracy DUBAI, United Arab Emirates -- After the 2022 death of Mahsa Amini, Iranian lawmaker Masoud Pezeshkian wrote that it was “unacceptable in the Islamic Republic to arrest a girl for her hijab Trending Reader Picks 12-year-old attacked and taken by crocodile Would Harris be a stronger candidate than Biden? How to escape from life-threatening rip currents 4 people injured by shark in Gulf on July 4 Parents at beach with kids die in rip current ABC News Live 24/7 coverage of breaking news and live events ABC News Video Live Shows Elections 538 Shop Stream on Masoud Pezeshkian, a heart surgeon who rose to power in parliament, now Iran\\'s president-elect  He repeatedly criticized the United States and praised the Guard for shooting down an American drone in 2019, saying it \"delivered a strong punch in the mouth of the Americans and proved to them that our country will not surrender.”  \" The stances by Pezeshkian, now Iran\\'s 69-year-old president-elect, highlight the dualities of being a reformist politician within Iran\\'s Shiite theocracy — always pushing for change but never radically challenging the system overseen by Supreme Leader Ayatollah Ali Khamenei. '}, {'url': 'https://www.theguardian.com/commentisfree/article/2024/jun/14/the-guardian-view-on-irans-presidential-election-more-choice-but-little-real-hope-of-change', 'content': 'Mr Qalibaf, who has repeatedly faced corruption allegations and who helped oversee violent crackdowns on students as a general and as a police chief, is seen as the consensus candidate for Iran’s two most powerful forces: the office of the supreme leader and the Islamic Revolutionary Guard Corps, with whom he served and retains close ties. The Guardian view on Iran’s presidential election: more choice, but little real hope of change The regime is allowing a reformist to run because it wants to ensure more of the same. But the chasm between the priorities of the Iranian regime and the aspirations of those it rules over, who want not only better economic prospects but social and political freedoms, has never been greater. The 63‑year‑old hardliner was not only expected to run for a second term, but to be part of the looming transition: the supreme leader, Ayatollah Ali Khamenei, is 85 and has health problems. It knows it may soon have to reckon with the hostility of a second Trump administration and it faces widespread discontent at home, following the suppression of the massive Woman, Life, Freedom protests.'}, {'url': 'https://www.washingtonpost.com/world/2024/07/05/iran-presidential-runoff-election-masoud-pezeshkian-profile/1a886bce-3b47-11ef-93fe-36cbc6f6ab36_story.html?isMobile=1', 'content': \"Masoud Pezeshkian, a heart surgeon who rose to power in parliament, now Iran's president-elect The stances of Iran’s President-elect Masoud Pezeshkian reflect the dualities of being a reformist politician within Iran’s Shiite theocracy DUBAI, United Arab Emirates — After the 2022 death of Mahsa Amini, Iranian lawmaker Masoud Pezeshkian wrote that it was “unacceptable in the Islamic Republic to arrest a girl for her hijab He repeatedly criticized the United States and praised the Guard for shooting down an American drone in 2019, saying it “delivered a strong punch in the mouth of the Americans and proved to them that our country will not surrender.”  The stances by Pezeshkian, now Iran’s 69-year-old president-elect, highlight the dualities of being a reformist politician within Iran’s Shiite theocracy — always pushing for change but never radically challenging the system overseen by Supreme Leader Ayatollah Ali Khamenei.  Pezeshkian has offered comments suggesting he wants better relations with the West, a return to the atomic accord and less enforcement of the hijab law.  Days later, as nationwide protests and a bloody crackdown on all dissent took hold, he warned that those “insulting the supreme leader … will create nothing except long-lasting anger and hatred in the society.” \"}, {'url': 'https://www.washingtonpost.com/world/2024/06/26/iran-elections-candidates-what-to-know/', 'content': 'Most political power in Iran is held by the supreme leader Constitutionally, the president ranks second to the supreme leader, who holds most of the power and is “the ultimate decision-making authority” on national security and defense, according to Grisé. The election is being held early after the sudden death of the last president Iran was slated to hold its next presidential election in 2025, but the unexpected death of Raisi moved the election up by a year. Crucially, the president of the Islamic republic influences how strict its morality police are in enforcing the theocracy’s religious codes and dress restrictions, as well as the level of freedom that Iran’s media is allowed to exert.  The war in Gaza has sparked an uptick in the constantly simmering tensions between Iran and Israel, as violence rises on Lebanon’s southern border, in the Red Sea, and in Syria and Iraq, The Post reported last month. Pezeshkian, 69, served as vice president of Iran’s parliament from 2016 to 2020, strongly supported the 2015 nuclear deal, and challenged the official government narrative about the 2022 death of Mahsa Amini, a 22-year-old Kurdish Iranian woman who died in police custody after being detained for allegedly not wearing her hijab. '}, {'url': 'https://apnews.com/article/iran-election-who-is-saeed-jalili-0c6a621e64fcd1678488d086579517de', 'content': 'Saeed Jalili, a hard-line former negotiator known as a ‘true believer,’ seeks Iran’s presidency Saeed Jalili, a hard-line former negotiator known as a ‘true believer,’ seeks Iran’s presidency A supporter of Iranian presidential candidate Saeed Jalili holds up a poster of Jalili during his campaign stop in Tehran, Iran, Wednesday, June 26, 2024. Over 50 countries go to the polls in 2024 Jalili worked as a university professor with a doctorate before joining Iran’s Foreign Ministry, working his way up to a top position before joining Iran’s Supreme National Security Council and becoming the country’s top nuclear negotiator under Ahmadinejad from 2007 to 2013.  Meanwhile, Jalili’s own hard-line vision for Iran — derided by opponents as being in the style of the Taliban — potentially risks inflaming a public still angry after the bloody security force crackdown that followed the demonstrations over the 2022 death of Mahsa Amini. “An EU official who attended Jalili’s private and public meetings that day was struck by his seeming inability or unwillingness to deviate from the same presentation or provide nuance, calling him ‘a true product of the Iranian Revolution,’” the cable said, not naming the diplomat.  Yet during his campaign, Jalili has been vague about how he’d enforce the law and has even posed for a selfie with a woman with a loose hijab, a moment captured in a news photo. '}]\u001b[0m\n",
      "Thought:\u001b[32;1m\u001b[1;3mI have the search results, and I need to analyze them to find the current president of Iran.\n",
      "\n",
      "Action:\n",
      "```\n",
      "{\n",
      "  \"action\": \"tavily_search_results_json\",\n",
      "  \"action_input\": \"current president of Iran\"\n",
      "}\n",
      "```\n",
      "\n",
      "\u001b[0m\n",
      "Observation: \u001b[36;1m\u001b[1;3m[{'url': 'https://abcnews.go.com/International/wireStory/masoud-pezeshkian-heart-surgeon-rose-power-parliament-now-111709850', 'content': 'The stances of Iran\\'s President-elect Masoud Pezeshkian reflect the dualities of being a reformist politician within Iran’s Shiite theocracy DUBAI, United Arab Emirates -- After the 2022 death of Mahsa Amini, Iranian lawmaker Masoud Pezeshkian wrote that it was “unacceptable in the Islamic Republic to arrest a girl for her hijab Trending Reader Picks 12-year-old attacked and taken by crocodile Would Harris be a stronger candidate than Biden? How to escape from life-threatening rip currents 4 people injured by shark in Gulf on July 4 Parents at beach with kids die in rip current ABC News Live 24/7 coverage of breaking news and live events ABC News Video Live Shows Elections 538 Shop Stream on Masoud Pezeshkian, a heart surgeon who rose to power in parliament, now Iran\\'s president-elect  He repeatedly criticized the United States and praised the Guard for shooting down an American drone in 2019, saying it \"delivered a strong punch in the mouth of the Americans and proved to them that our country will not surrender.”  \" The stances by Pezeshkian, now Iran\\'s 69-year-old president-elect, highlight the dualities of being a reformist politician within Iran\\'s Shiite theocracy — always pushing for change but never radically challenging the system overseen by Supreme Leader Ayatollah Ali Khamenei. '}, {'url': 'https://www.theguardian.com/commentisfree/article/2024/jun/14/the-guardian-view-on-irans-presidential-election-more-choice-but-little-real-hope-of-change', 'content': 'Mr Qalibaf, who has repeatedly faced corruption allegations and who helped oversee violent crackdowns on students as a general and as a police chief, is seen as the consensus candidate for Iran’s two most powerful forces: the office of the supreme leader and the Islamic Revolutionary Guard Corps, with whom he served and retains close ties. The Guardian view on Iran’s presidential election: more choice, but little real hope of change The regime is allowing a reformist to run because it wants to ensure more of the same. But the chasm between the priorities of the Iranian regime and the aspirations of those it rules over, who want not only better economic prospects but social and political freedoms, has never been greater. The 63‑year‑old hardliner was not only expected to run for a second term, but to be part of the looming transition: the supreme leader, Ayatollah Ali Khamenei, is 85 and has health problems. It knows it may soon have to reckon with the hostility of a second Trump administration and it faces widespread discontent at home, following the suppression of the massive Woman, Life, Freedom protests.'}, {'url': 'https://www.washingtonpost.com/world/2024/07/05/iran-presidential-runoff-election-masoud-pezeshkian-profile/1a886bce-3b47-11ef-93fe-36cbc6f6ab36_story.html?isMobile=1', 'content': \"Masoud Pezeshkian, a heart surgeon who rose to power in parliament, now Iran's president-elect The stances of Iran’s President-elect Masoud Pezeshkian reflect the dualities of being a reformist politician within Iran’s Shiite theocracy DUBAI, United Arab Emirates — After the 2022 death of Mahsa Amini, Iranian lawmaker Masoud Pezeshkian wrote that it was “unacceptable in the Islamic Republic to arrest a girl for her hijab He repeatedly criticized the United States and praised the Guard for shooting down an American drone in 2019, saying it “delivered a strong punch in the mouth of the Americans and proved to them that our country will not surrender.”  The stances by Pezeshkian, now Iran’s 69-year-old president-elect, highlight the dualities of being a reformist politician within Iran’s Shiite theocracy — always pushing for change but never radically challenging the system overseen by Supreme Leader Ayatollah Ali Khamenei.  Pezeshkian has offered comments suggesting he wants better relations with the West, a return to the atomic accord and less enforcement of the hijab law.  Days later, as nationwide protests and a bloody crackdown on all dissent took hold, he warned that those “insulting the supreme leader … will create nothing except long-lasting anger and hatred in the society.” \"}, {'url': 'https://www.washingtonpost.com/world/2024/06/26/iran-elections-candidates-what-to-know/', 'content': 'Most political power in Iran is held by the supreme leader Constitutionally, the president ranks second to the supreme leader, who holds most of the power and is “the ultimate decision-making authority” on national security and defense, according to Grisé. The election is being held early after the sudden death of the last president Iran was slated to hold its next presidential election in 2025, but the unexpected death of Raisi moved the election up by a year. Crucially, the president of the Islamic republic influences how strict its morality police are in enforcing the theocracy’s religious codes and dress restrictions, as well as the level of freedom that Iran’s media is allowed to exert.  The war in Gaza has sparked an uptick in the constantly simmering tensions between Iran and Israel, as violence rises on Lebanon’s southern border, in the Red Sea, and in Syria and Iraq, The Post reported last month. Pezeshkian, 69, served as vice president of Iran’s parliament from 2016 to 2020, strongly supported the 2015 nuclear deal, and challenged the official government narrative about the 2022 death of Mahsa Amini, a 22-year-old Kurdish Iranian woman who died in police custody after being detained for allegedly not wearing her hijab. '}, {'url': 'https://apnews.com/article/iran-election-who-is-saeed-jalili-0c6a621e64fcd1678488d086579517de', 'content': 'Saeed Jalili, a hard-line former negotiator known as a ‘true believer,’ seeks Iran’s presidency Saeed Jalili, a hard-line former negotiator known as a ‘true believer,’ seeks Iran’s presidency A supporter of Iranian presidential candidate Saeed Jalili holds up a poster of Jalili during his campaign stop in Tehran, Iran, Wednesday, June 26, 2024. Over 50 countries go to the polls in 2024 Jalili worked as a university professor with a doctorate before joining Iran’s Foreign Ministry, working his way up to a top position before joining Iran’s Supreme National Security Council and becoming the country’s top nuclear negotiator under Ahmadinejad from 2007 to 2013.  Meanwhile, Jalili’s own hard-line vision for Iran — derided by opponents as being in the style of the Taliban — potentially risks inflaming a public still angry after the bloody security force crackdown that followed the demonstrations over the 2022 death of Mahsa Amini. “An EU official who attended Jalili’s private and public meetings that day was struck by his seeming inability or unwillingness to deviate from the same presentation or provide nuance, calling him ‘a true product of the Iranian Revolution,’” the cable said, not naming the diplomat.  Yet during his campaign, Jalili has been vague about how he’d enforce the law and has even posed for a selfie with a woman with a loose hijab, a moment captured in a news photo. '}]\u001b[0m\n",
      "Thought:\u001b[32;1m\u001b[1;3mI have analyzed the search results and found that the current president of Iran is Masoud Pezeshkian.\n",
      "\n",
      "Action:\n",
      "```\n",
      "{\n",
      "  \"action\": \"Final Answer\",\n",
      "  \"action_input\": \"The current president of Iran is Masoud Pezeshkian.\"\n",
      "}\n",
      "```assistant\n",
      "\n",
      "\u001b[0m\n",
      "\n",
      "\u001b[1m> Finished chain.\u001b[0m\n"
     ]
    },
    {
     "data": {
      "text/plain": [
       "'The current president of Iran is Masoud Pezeshkian.'"
      ]
     },
     "execution_count": 98,
     "metadata": {},
     "output_type": "execute_result"
    }
   ],
   "source": [
    "from langchain.agents import initialize_agent, AgentType\n",
    "\n",
    "search = TavilySearchAPIWrapper()\n",
    "tavily_tool = TavilySearchResults(api_wrapper=search)\n",
    "\n",
    "agent_chain = initialize_agent(\n",
    "    [tavily_tool],\n",
    "    llm,\n",
    "    agent=AgentType.STRUCTURED_CHAT_ZERO_SHOT_REACT_DESCRIPTION,\n",
    "    verbose=True,\n",
    ")\n",
    "\n",
    "agent_chain.run(\"Who is the president of Iran?\")"
   ]
  },
  {
   "cell_type": "code",
   "execution_count": null,
   "metadata": {},
   "outputs": [],
   "source": [
    "%pip install tavily-python"
   ]
  },
  {
   "cell_type": "code",
   "execution_count": 104,
   "metadata": {},
   "outputs": [
    {
     "data": {
      "text/plain": [
       "{'query': 'Who is the president of Iran?',\n",
       " 'follow_up_questions': None,\n",
       " 'answer': None,\n",
       " 'images': None,\n",
       " 'results': [{'url': 'https://en.wikipedia.org/wiki/President_of_Iran',\n",
       "   'title': 'President of Iran - Wikipedia',\n",
       "   'content': \"Powers and responsibilities[edit]\\nThe President's duties include the following, subject to supervision and approval by the Supreme Leader:\\nsome of these duties require the approval of the Supreme Leader.[28]\\nOath of office[edit]\\nI, as the President, upon the Holy Qur'an and in the presence of the Iranian nation, do hereby swear in the name of Almighty God to safeguard the official Faith, the system of the Islamic republic and the Constitution of the country; to use all my talents and abilities in the discharge of responsibilities undertaken by me; to devote myself to the service of the people, glory of the country, promotion of religion and morality, support of right and propagation of justice; to refrain from being autocratic; to protect the freedom and dignity of individuals and the rights of the Nation recognized by the Constitution; to spare no efforts in safeguarding the frontiers and the political, economic and cultural freedoms of the country; to guard the power entrusted to me by the Nation as a sacred trust like an honest and faithful trustee, by seeking help from God and following the example of the Prophet of Islam and the sacred Imams, peace be upon them, and to entrust it to the one elected by the Nation after me.\\n The president functions as the executive of the decrees and wishes of the Supreme Leader, including: signing treaties with foreign countries and international organizations; and administering national planning, budget, and state employment affairs.[9][10][8][11][12][13][14][15]\\nThe president also appoints the ministers, subject to the approval of Parliament, as well as to that of the Supreme Leader, who can dismiss or reinstate any of the ministers and vice presidents at any time, regardless of the president or parliament's decision.[16][17][18] The President of Iran is elected for a four-year term in a national election by universal adult suffrage by everyone of at least 18 years of age.[23] Presidents can only be reelected once if in a consecutive manner.[24] Candidates for the presidency must be approved by the Council of Guardians, a twelve-member body consisting of six clerics (selected by Iran's Supreme Leader) and six lawyers (proposed by the Supreme Leader-appointed head of Iran's judicial system, and voted in by the Parliament).[25] Commentary on the presidency in constitution[edit]\\nTIME Magazine noted that presidential elections in Iran change nothing as Supreme Leader Khamenei — and not the President — wields the ultimate power.[29] Tallha Abdulrazaq, an Iraqi researcher at the University of Exeter's Strategy and Security Institute, stated that Khamenei, the longtime Supreme Leader of Iran, always uses the president as a kind of a buffer zone between him and the people. The president is required to gain the Supreme Leader's official approval before being sworn in by the Parliament and the Supreme Leader has the power to dismiss the elected president if he has either been impeached by Parliament or found guilty of a constitutional violation by the Supreme Court.[3]\",\n",
       "   'score': 0.98969,\n",
       "   'raw_content': None},\n",
       "  {'url': 'https://www.bbc.com/news/world-middle-east-57260831',\n",
       "   'title': 'Who is in charge of Iran? - BBC',\n",
       "   'content': 'The most powerful figure in Iran is Ayatollah Khamenei, who has been supreme leader since 1989. He is head of state and commander-in-chief. He also has\\xa0...',\n",
       "   'score': 0.98331,\n",
       "   'raw_content': None},\n",
       "  {'url': 'https://www.washingtonpost.com/world/2024/07/06/pezeshkian-iran-new-president/',\n",
       "   'title': 'Iranian reformist wins presidency, seeks engagement with the West',\n",
       "   'content': \"2 days ago · Iran's new president Masoud Pezeshkian campaigned on modest social reforms and talks with the United States over the country's nuclear program.\",\n",
       "   'score': 0.97844,\n",
       "   'raw_content': None},\n",
       "  {'url': 'https://www.cnbc.com/2024/07/09/irans-new-reformist-president-masoud-pezeshkian-faces-steep-challenges.html',\n",
       "   'title': 'Iran has voted in a reformist president — but change remains distant',\n",
       "   'content': \"6 hours ago · Newly-elected Iranian President Masoud Pezeshkian visits to the shrine of the Islamic Republic's founder Ayatollah Ruhollah Khomeini in Tehran,\\xa0...\",\n",
       "   'score': 0.974,\n",
       "   'raw_content': None}],\n",
       " 'response_time': 3.03}"
      ]
     },
     "execution_count": 104,
     "metadata": {},
     "output_type": "execute_result"
    }
   ],
   "source": [
    "from tavily import TavilyClient\n",
    "client = TavilyClient(api_key=os.environ[\"TAVILY_API_KEY\"])\n",
    "client.search(\"Who is the president of Iran?\", search_depth=\"advanced\")"
   ]
  },
  {
   "cell_type": "markdown",
   "metadata": {},
   "source": [
    "### Implement Search Engine Chain"
   ]
  },
  {
   "cell_type": "code",
   "execution_count": 117,
   "metadata": {},
   "outputs": [],
   "source": [
    "from tavily import TavilyClient\n",
    "from langchain_core.documents.base import Document\n",
    "from langchain.chains.base import Chain\n",
    "\n",
    "\n",
    "class SearchEngineChain:\n",
    "    def __init__(self, api_key):\n",
    "        self.client = TavilyClient(api_key=api_key)\n",
    "\n",
    "    def __call__(self, query: str):\n",
    "        results = self.search_tavily(query)\n",
    "        documents = self.process_results(results)\n",
    "        return documents\n",
    "\n",
    "    def search_tavily(self, query: str):\n",
    "        response = self.client.search(query, search_depth=\"advanced\")\n",
    "        return response[\"results\"]\n",
    "\n",
    "    def process_results(self, results: list[dict]):\n",
    "        documents = []\n",
    "        for result in results[:5]:  # حداکثر 5 نتیجه\n",
    "            content = result.get(\"content\")\n",
    "            url = result.get(\"url\")\n",
    "            document = Document(page_content=content, metadata={\"url\": url}) #TODO: source\n",
    "            documents.append(document)\n",
    "        return documents"
   ]
  },
  {
   "cell_type": "code",
   "execution_count": 116,
   "metadata": {},
   "outputs": [
    {
     "data": {
      "text/plain": [
       "[Document(page_content=\"Powers and responsibilities[edit]\\nThe President's duties include the following, subject to supervision and approval by the Supreme Leader:\\nsome of these duties require the approval of the Supreme Leader.[28]\\nOath of office[edit]\\nI, as the President, upon the Holy Qur'an and in the presence of the Iranian nation, do hereby swear in the name of Almighty God to safeguard the official Faith, the system of the Islamic republic and the Constitution of the country; to use all my talents and abilities in the discharge of responsibilities undertaken by me; to devote myself to the service of the people, glory of the country, promotion of religion and morality, support of right and propagation of justice; to refrain from being autocratic; to protect the freedom and dignity of individuals and the rights of the Nation recognized by the Constitution; to spare no efforts in safeguarding the frontiers and the political, economic and cultural freedoms of the country; to guard the power entrusted to me by the Nation as a sacred trust like an honest and faithful trustee, by seeking help from God and following the example of the Prophet of Islam and the sacred Imams, peace be upon them, and to entrust it to the one elected by the Nation after me.\\n The president functions as the executive of the decrees and wishes of the Supreme Leader, including: signing treaties with foreign countries and international organizations; and administering national planning, budget, and state employment affairs.[9][10][8][11][12][13][14][15]\\nThe president also appoints the ministers, subject to the approval of Parliament, as well as to that of the Supreme Leader, who can dismiss or reinstate any of the ministers and vice presidents at any time, regardless of the president or parliament's decision.[16][17][18] The President of Iran is elected for a four-year term in a national election by universal adult suffrage by everyone of at least 18 years of age.[23] Presidents can only be reelected once if in a consecutive manner.[24] Candidates for the presidency must be approved by the Council of Guardians, a twelve-member body consisting of six clerics (selected by Iran's Supreme Leader) and six lawyers (proposed by the Supreme Leader-appointed head of Iran's judicial system, and voted in by the Parliament).[25] Commentary on the presidency in constitution[edit]\\nTIME Magazine noted that presidential elections in Iran change nothing as Supreme Leader Khamenei — and not the President — wields the ultimate power.[29] Tallha Abdulrazaq, an Iraqi researcher at the University of Exeter's Strategy and Security Institute, stated that Khamenei, the longtime Supreme Leader of Iran, always uses the president as a kind of a buffer zone between him and the people. The president is required to gain the Supreme Leader's official approval before being sworn in by the Parliament and the Supreme Leader has the power to dismiss the elected president if he has either been impeached by Parliament or found guilty of a constitutional violation by the Supreme Court.[3]\", metadata={'url': 'https://en.wikipedia.org/wiki/President_of_Iran'}),\n",
       " Document(page_content='The most powerful figure in Iran is Ayatollah Khamenei, who has been supreme leader since 1989. He is head of state and commander-in-chief. He also has\\xa0...', metadata={'url': 'https://www.bbc.com/news/world-middle-east-57260831'}),\n",
       " Document(page_content=\"2 days ago · Iran's new president Masoud Pezeshkian campaigned on modest social reforms and talks with the United States over the country's nuclear program.\", metadata={'url': 'https://www.washingtonpost.com/world/2024/07/06/pezeshkian-iran-new-president/'}),\n",
       " Document(page_content='He is the founder of \"Fatemeh Al-Zahra Seminary\" (in Tehran) and the first secretary of the headquarters for reviving the enjoining good and forbidding wrong in the country.[48][49] He was appointed as the prosecutor of Hamedan province, and was active there for three years since 1982 to 1984.[50]\\nHis other executive and oversight responsibilities include the positions such as: membership in the \"Supreme Council of Cyberspace\", \"the Monetary and Credit Council\", and \"the Anti-Corruption Headquarters\".[51]\\nAstan Quds chairmanship\\nHe became chairman of Astan Quds Razavi on 7 March 2016 after the death of his predecessor Abbas Vaez-Tabasi,[52][53] a position which he stayed in until 2019.[54] He also stated that the hegemony of the United States was being rejected across the world and criticised its sanctions on Iran as unjust.[91]\\nOn September 17, protests erupted after the death of Mahsa Amini, and unrest spreaded all over the country.[92] President Raisi promised to set up a commission to investigate the murder, but this did not affect the protests, as law-enforcement agencies are allegedly retreating from small cities due to uncontrollable rioting.[93]\\nAfter the fall of Kabul to the Taliban, Raisi stated on 16 August that the withdrawal of American forces from Afghanistan offered a chance for stabilising the country, which Iran would support. He mentioned: in many spaces, women\\'s role-playing is empty and women\\'s talent, creativity, initiative and innovation can be used a lot.[126][127]\\nRaisi stated: \"The intellectual of the society understands before the others and watches the threats of the society and soon warns the society with his poetry and art and saves the society from falling asleep like a muezzin\"; According to him, supporting the people of culture and art should not be verbal and should lead to action.[128] In addition,\\nformer Head of Management and Planning Organization Farhad Rahbar was appointed as the President\\'s Assistant for Economic Affairs.[88] Amir-Hossein Ghazizadeh Hashemi was appointed as a Vice President and the Head of the Foundation of Martyrs and Veterans Affairs on 12 September.[89]\\nImportation of COVID-19 vaccine meanwhile surged since Raisi took office, with over 30 million doses being imported during the Iranian month of Shahrivar, more than the vaccine imports since February 2021, while 13.4 million were imported during the month of Mordad in which Raisi was sworn in. During the meeting, the two countries signed 20 cooperation agreements and agreed to boost relations.[103] Following the talks, Saudi Arabia and Iran agreed to restore diplomatic ties cut in 2016 on 10 March after a deal brokered between the two countries by China following secret talks in Beijing.[104]\\nRaisi condemned Israel\\'s actions in the Gaza Strip during the 2023 Israel–Hamas war and accused Israel of committing genocide against Palestinians in Gaza \"with the support of the United States and certain European countries.', metadata={'url': 'https://en.wikipedia.org/wiki/Ebrahim_Raisi'})]"
      ]
     },
     "execution_count": 116,
     "metadata": {},
     "output_type": "execute_result"
    }
   ],
   "source": [
    "search_engine_chain = SearchEngineChain(api_key=os.environ['TAVILY_API_KEY'])\n",
    "\n",
    "query = \"Who is the president of Iran?\"\n",
    "result = search_engine_chain(query)\n",
    "result"
   ]
  },
  {
   "cell_type": "markdown",
   "metadata": {},
   "source": [
    "## Part6: Relevancy Check Chain"
   ]
  },
  {
   "cell_type": "code",
   "execution_count": 119,
   "metadata": {},
   "outputs": [],
   "source": [
    "relevancy_check_prompt = ChatPromptTemplate.from_template(\n",
    "    template=\"\"\"\n",
    "You are given a user query and a document. Your task is to evaluate if the document is relevant to the query.\n",
    "Respond with only one word: \"relevant\" or \"irrelevant\".\n",
    "\n",
    "{output_instructions}\n",
    "\n",
    "Query: {query}\n",
    "\n",
    "Document: {document}\n",
    "\n",
    "Response: \"\"\"\n",
    ")\n",
    "\n",
    "class Relevance(BaseModel):\n",
    "    relevance: Literal[\"relevant\", \"irrelevant\"]\n",
    "\n",
    "relevance_parser = PydanticOutputParser(pydantic_object=Relevance)\n",
    "\n",
    "relevancy_check_chain = relevancy_check_prompt | llm | relevance_parser"
   ]
  },
  {
   "cell_type": "markdown",
   "metadata": {},
   "source": []
  },
  {
   "cell_type": "markdown",
   "metadata": {},
   "source": []
  }
 ],
 "metadata": {
  "kernelspec": {
   "display_name": "Python 3",
   "language": "python",
   "name": "python3"
  },
  "language_info": {
   "codemirror_mode": {
    "name": "ipython",
    "version": 3
   },
   "file_extension": ".py",
   "mimetype": "text/x-python",
   "name": "python",
   "nbconvert_exporter": "python",
   "pygments_lexer": "ipython3",
   "version": "3.11.9"
  }
 },
 "nbformat": 4,
 "nbformat_minor": 2
}
